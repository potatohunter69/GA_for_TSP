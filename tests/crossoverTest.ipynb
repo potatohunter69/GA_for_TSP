{
 "cells": [
  {
   "cell_type": "markdown",
   "metadata": {},
   "source": [
    "<div style=\"color:red;\">\n",
    "    <h2>ATTENTION:</h2>\n",
    "    <ul>\n",
    "        <li><b>This test was run using an older version of our program.</b></li>\n",
    "        <li><b>Although the crossover implementations remain the same, the structure of files has changed.</b></li>\n",
    "        <li><b>You may encounter some errors running this file, but the main point was to test different crossovers, which is shown in the output.</b></li>\n",
    "        <li><b>We didn't have time to adjust the test to the new version, and even if we did, the results would remain the same.</b></li>\n",
    "    </ul>\n",
    "</div>\n"
   ]
  },
  {
   "cell_type": "code",
   "execution_count": 109,
   "metadata": {},
   "outputs": [
    {
     "name": "stdout",
     "output_type": "stream",
     "text": [
      "The autoreload extension is already loaded. To reload it, use:\n",
      "  %reload_ext autoreload\n"
     ]
    }
   ],
   "source": [
    "import sys\n",
    "sys.path.append('../src')\n",
    "import numpy as np\n",
    "\n",
    "\n",
    "\n",
    "from initialize import load_csv, eu_countries\n",
    "from main import run_genetic_algorithm\n",
    "%load_ext autoreload\n",
    "%autoreload 2\n",
    "\n",
    "cities = load_csv(\"data/cities_1000_dataset.csv\")\n",
    "\n"
   ]
  },
  {
   "cell_type": "code",
   "execution_count": 82,
   "metadata": {},
   "outputs": [],
   "source": [
    "import matplotlib.pyplot as plt\n",
    "import time\n",
    "import pandas as pd  \n",
    "\n",
    "crossover_methods = ['cx', 'ox', 'pmx', 'pbx']\n",
    "\n",
    "def run_crossover_test(cities, crossover_type):\n",
    "    \"\"\"\n",
    "    Runs the genetic algorithm with the specified crossover type and logs details.\n",
    "    \"\"\"\n",
    "    print(f\"Testing {crossover_type.upper()} with {len(cities)} cities...\")\n",
    "\n",
    "    start_time = time.time()\n",
    "\n",
    "    best_route, best_fitness, fitness_history, route_history = run_genetic_algorithm(\n",
    "        cities,\n",
    "        crossover_type=crossover_type,\n",
    "        plot=False \n",
    "    )\n",
    "    \n",
    "    duration = time.time() - start_time\n",
    "   \n",
    "    \n",
    "    return best_route, best_fitness, duration\n",
    "\n",
    "\n"
   ]
  },
  {
   "cell_type": "code",
   "execution_count": null,
   "metadata": {},
   "outputs": [],
   "source": []
  },
  {
   "cell_type": "code",
   "execution_count": 67,
   "metadata": {},
   "outputs": [
    {
     "name": "stdout",
     "output_type": "stream",
     "text": [
      "Testing CX with 10 cities...\n",
      "Testing OX with 10 cities...\n",
      "Testing PMX with 10 cities...\n",
      "Testing PBX with 10 cities...\n",
      "Testing CX with 20 cities...\n",
      "Testing OX with 20 cities...\n",
      "Testing PMX with 20 cities...\n",
      "Testing PBX with 20 cities...\n",
      "Testing CX with 50 cities...\n",
      "Testing OX with 50 cities...\n",
      "Testing PMX with 50 cities...\n",
      "Testing PBX with 50 cities...\n",
      "Testing CX with 100 cities...\n",
      "Testing OX with 100 cities...\n",
      "Testing PMX with 100 cities...\n",
      "Testing PBX with 100 cities...\n",
      "Testing CX with 250 cities...\n",
      "Testing OX with 250 cities...\n",
      "Testing PMX with 250 cities...\n",
      "Testing PBX with 250 cities...\n",
      "Testing CX with 500 cities...\n",
      "Testing OX with 500 cities...\n",
      "Testing PMX with 500 cities...\n",
      "Testing PBX with 500 cities...\n",
      "\n",
      "Final Results Table:\n",
      "    Num Cities Crossover Method  Best Fitness    Duration\n",
      "0           10               cx      0.003496    0.677116\n",
      "1           10               ox      0.003496    0.704217\n",
      "2           10              pmx      0.003496    0.691109\n",
      "3           10              pbx      0.003496    0.687738\n",
      "4           20               cx      0.002414    1.083356\n",
      "5           20               ox      0.002495    0.991749\n",
      "6           20              pmx      0.002414    0.981446\n",
      "7           20              pbx      0.002430    1.074994\n",
      "8           50               cx      0.001522    3.518626\n",
      "9           50               ox      0.001495    2.478478\n",
      "10          50              pmx      0.001605    2.025045\n",
      "11          50              pbx      0.001466    2.442590\n",
      "12         100               cx      0.001111   10.406102\n",
      "13         100               ox      0.001107    6.622850\n",
      "14         100              pmx      0.001107    4.763491\n",
      "15         100              pbx      0.001107    6.321779\n",
      "16         250               cx      0.000706   59.006499\n",
      "17         250               ox      0.000705   34.246525\n",
      "18         250              pmx      0.000705   21.738206\n",
      "19         250              pbx      0.000705   31.413843\n",
      "20         500               cx      0.000461  240.812758\n",
      "21         500               ox      0.000461  164.107474\n",
      "22         500              pmx      0.000461   91.375533\n",
      "23         500              pbx      0.000461  129.518534\n"
     ]
    }
   ],
   "source": [
    "import numpy as np\n",
    "import pandas as pd  \n",
    "\n",
    "city_counts = [10, 20, 50,100,250,500]\n",
    "results = []\n",
    "\n",
    "for num_cities in city_counts:\n",
    "    if num_cities <= len(cities):\n",
    "        indices = list(range(num_cities))\n",
    "        cities_subset = cities[indices]\n",
    "\n",
    "        cities_subset_ids = [int(city_id) for city_id in cities_subset[:, 0]]\n",
    "\n",
    "        for method in crossover_methods:\n",
    "            best_route, best_fitness,duration = run_crossover_test(cities_subset, crossover_type=method,)\n",
    "\n",
    "            results.append({\n",
    "                'Num Cities': num_cities,\n",
    "                'Crossover Method': method,\n",
    "                'Best Fitness': best_fitness,\n",
    "                'Duration': duration\n",
    "            })\n",
    "\n",
    "results_df = pd.DataFrame(results)\n",
    "\n",
    "print(\"\\nFinal Results Table:\")\n",
    "print(results_df)\n"
   ]
  },
  {
   "cell_type": "code",
   "execution_count": null,
   "metadata": {},
   "outputs": [],
   "source": []
  },
  {
   "cell_type": "code",
   "execution_count": null,
   "metadata": {},
   "outputs": [],
   "source": []
  },
  {
   "cell_type": "code",
   "execution_count": null,
   "metadata": {},
   "outputs": [],
   "source": []
  }
 ],
 "metadata": {
  "kernelspec": {
   "display_name": "Python 3",
   "language": "python",
   "name": "python3"
  },
  "language_info": {
   "codemirror_mode": {
    "name": "ipython",
    "version": 3
   },
   "file_extension": ".py",
   "mimetype": "text/x-python",
   "name": "python",
   "nbconvert_exporter": "python",
   "pygments_lexer": "ipython3",
   "version": "3.10.11"
  }
 },
 "nbformat": 4,
 "nbformat_minor": 2
}
